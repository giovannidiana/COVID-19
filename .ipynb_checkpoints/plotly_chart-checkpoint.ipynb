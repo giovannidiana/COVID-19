{
 "cells": [
  {
   "cell_type": "code",
   "execution_count": 2,
   "metadata": {},
   "outputs": [
    {
     "name": "stdout",
     "output_type": "stream",
     "text": [
      "Download data\n"
     ]
    },
    {
     "name": "stderr",
     "output_type": "stream",
     "text": [
      "Parsed with column specification:\n",
      "cols(\n",
      "  .default = col_double(),\n",
      "  `Province/State` = \u001b[31mcol_character()\u001b[39m,\n",
      "  `Country/Region` = \u001b[31mcol_character()\u001b[39m\n",
      ")\n",
      "\n",
      "See spec(...) for full column specifications.\n",
      "\n",
      "Parsed with column specification:\n",
      "cols(\n",
      "  .default = col_double(),\n",
      "  `Province/State` = \u001b[31mcol_character()\u001b[39m,\n",
      "  `Country/Region` = \u001b[31mcol_character()\u001b[39m\n",
      ")\n",
      "\n",
      "See spec(...) for full column specifications.\n",
      "\n",
      "Parsed with column specification:\n",
      "cols(\n",
      "  .default = col_double(),\n",
      "  `Province/State` = \u001b[31mcol_character()\u001b[39m,\n",
      "  `Country/Region` = \u001b[31mcol_character()\u001b[39m\n",
      ")\n",
      "\n",
      "See spec(...) for full column specifications.\n",
      "\n"
     ]
    }
   ],
   "source": [
    "library(plotly)\n",
    "source(\"simul+binom.R\")"
   ]
  },
  {
   "cell_type": "code",
   "execution_count": 13,
   "metadata": {},
   "outputs": [
    {
     "ename": "ERROR",
     "evalue": "Error in z %||% p$x$attrs[[1]][[\"z\"]]: argument \"p\" is missing, with no default\n",
     "output_type": "error",
     "traceback": [
      "Error in z %||% p$x$attrs[[1]][[\"z\"]]: argument \"p\" is missing, with no default\nTraceback:\n",
      "1. add_lines(data = df2, x = ~A, y = ~B, type = \"scatter\", visible = F)",
      "2. z %||% p$x$attrs[[1]][[\"z\"]]"
     ]
    }
   ],
   "source": [
    "\n",
    "df=data.frame(A=1:10,B=(1:10)^2)\n",
    "df2=data.frame(A=1:10,B=sqrt(1:10))\n",
    "fig<-plot_ly() %>% add_lines(data=df,x=~A,y=~B,type=\"scatter\") \n",
    "fig <- fig %>% add_lines(data=df2,x=~A,y=~B,type=\"scatter\",visible=F)\n",
    "\n",
    "fig <- fig %>% layout(\n",
    "    title = \"Drop down menus - Plot type\",\n",
    "    xaxis = list(domain = c(1, 10)),\n",
    "    updatemenus = list(\n",
    "      list(\n",
    "        y = 0.8,\n",
    "        buttons = list(\n",
    "\n",
    "          list(method = \"restyle\",\n",
    "               args = list(\"visible\",c(T,F)),\n",
    "               label = \"red\"),\n",
    "\n",
    "          list(method = \"restyle\",\n",
    "               args = list(\"visible\", c(F,T)),\n",
    "               label = \"blue\")))\n",
    "    ))\n",
    "fig"
   ]
  }
 ],
 "metadata": {
  "kernelspec": {
   "display_name": "R",
   "language": "R",
   "name": "ir"
  },
  "language_info": {
   "codemirror_mode": "r",
   "file_extension": ".r",
   "mimetype": "text/x-r-source",
   "name": "R",
   "pygments_lexer": "r",
   "version": "3.6.0"
  }
 },
 "nbformat": 4,
 "nbformat_minor": 4
}
